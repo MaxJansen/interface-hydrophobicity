{
 "cells": [
  {
   "cell_type": "markdown",
   "metadata": {},
   "source": [
    "# Part 2. Plot results for comparison ranking and ROC AUC.\n",
    "## Performed comparison step on hydrophobicity groups of 100 on the cluster. Make plots of this slurm output. Also, plot ROC AUC from compute descriptors. Match this to the list of hydrophobicity retroactively.\n",
    "\n",
    "It seems like there is no significant difference between the hydrophobicity groups of 100. Get a statistical measure of this."
   ]
  },
  {
   "cell_type": "code",
   "execution_count": 1,
   "metadata": {},
   "outputs": [],
   "source": [
    "# Import packages\n",
    "import os\n",
    "import argparse\n",
    "import time\n",
    "import numpy as np\n",
    "import pandas as pd\n",
    "import ast\n",
    "import seaborn as sns\n",
    "import matplotlib.pyplot as plt\n",
    "from scipy.stats import ttest_ind"
   ]
  },
  {
   "cell_type": "code",
   "execution_count": 2,
   "metadata": {},
   "outputs": [],
   "source": [
    "# Import data\n",
    "data_path = '../data/masif_testing/'\n",
    "# Import comparison slurm output data and compute descriptors log\n",
    "slurm_output_df = pd.read_csv(str(data_path + 'all_hydro_slurms.txt'), header = None)\n",
    "# Import full hydrophobicty ranking"
   ]
  },
  {
   "cell_type": "code",
   "execution_count": 3,
   "metadata": {},
   "outputs": [],
   "source": [
    "# Add proper column names, make new colums, split fields\n",
    "slurm_output_df.rename(columns = {0:'Set and run'}, inplace=True)\n",
    "slurm_output_df['Set and run'].replace({\n",
    "    \"slurm-8770439\": \"Low\", \"slurm-8771075\": \"Mid\",\"slurm-8771086\": \"High\"}, regex=True, inplace=True)\n",
    "\n",
    "slurm_output_df = pd.DataFrame(\n",
    "    slurm_output_df['Set and run'].str.split('.out:',1).tolist(), columns=['Hydrophobicity and run', 'League and ranking'])\n",
    "\n",
    "slurm_output_df[['Hydrophobicity', 'Run']] = slurm_output_df[\n",
    "    'Hydrophobicity and run'].str.split('_',1).tolist()\n",
    "slurm_output_df.drop(columns=['Hydrophobicity and run'], inplace=True)\n",
    "hydro_col = slurm_output_df.pop('Hydrophobicity')\n",
    "run_col = slurm_output_df.pop('Run')\n",
    "\n",
    "# Rearrange columns\n",
    "slurm_output_df.insert(0, 'Hydrophobicity', hydro_col)\n",
    "slurm_output_df.insert(1, 'Run', run_col)\n",
    "\n",
    "# Separate ranking for plotting later\n",
    "slurm_output_df['Ranking'] = slurm_output_df[\n",
    "    'League and ranking'].apply(lambda x: x[-13:-11:]).tolist()"
   ]
  },
  {
   "cell_type": "code",
   "execution_count": 4,
   "metadata": {},
   "outputs": [],
   "source": [
    "slurm_output_df['League'] = ''"
   ]
  },
  {
   "cell_type": "code",
   "execution_count": 5,
   "metadata": {},
   "outputs": [],
   "source": [
    "slurm_output_df['League'][slurm_output_df['League and ranking'].str.match('Number in top 1 .')== True] = 'In top 1'\n",
    "slurm_output_df['League'][slurm_output_df['League and ranking'].str.match('Number in top 10 .')== True] = 'In top 10'\n",
    "slurm_output_df['League'][slurm_output_df['League and ranking'].str.match('Number in top 100 .')== True] = 'In top 100'"
   ]
  },
  {
   "cell_type": "code",
   "execution_count": 6,
   "metadata": {},
   "outputs": [
    {
     "data": {
      "text/html": [
       "<div>\n",
       "<style scoped>\n",
       "    .dataframe tbody tr th:only-of-type {\n",
       "        vertical-align: middle;\n",
       "    }\n",
       "\n",
       "    .dataframe tbody tr th {\n",
       "        vertical-align: top;\n",
       "    }\n",
       "\n",
       "    .dataframe thead th {\n",
       "        text-align: right;\n",
       "    }\n",
       "</style>\n",
       "<table border=\"1\" class=\"dataframe\">\n",
       "  <thead>\n",
       "    <tr style=\"text-align: right;\">\n",
       "      <th></th>\n",
       "      <th>Hydrophobicity</th>\n",
       "      <th>Run</th>\n",
       "      <th>League and ranking</th>\n",
       "      <th>Ranking</th>\n",
       "      <th>League</th>\n",
       "    </tr>\n",
       "  </thead>\n",
       "  <tbody>\n",
       "    <tr>\n",
       "      <th>0</th>\n",
       "      <td>Low</td>\n",
       "      <td>1</td>\n",
       "      <td>Number in top 100 90 out of 100</td>\n",
       "      <td>90</td>\n",
       "      <td>In top 100</td>\n",
       "    </tr>\n",
       "    <tr>\n",
       "      <th>1</th>\n",
       "      <td>Low</td>\n",
       "      <td>1</td>\n",
       "      <td>Number in top 10 80 out of 100</td>\n",
       "      <td>80</td>\n",
       "      <td>In top 10</td>\n",
       "    </tr>\n",
       "    <tr>\n",
       "      <th>2</th>\n",
       "      <td>Low</td>\n",
       "      <td>1</td>\n",
       "      <td>Number in top 1 70 out of 100</td>\n",
       "      <td>70</td>\n",
       "      <td>In top 1</td>\n",
       "    </tr>\n",
       "    <tr>\n",
       "      <th>3</th>\n",
       "      <td>Low</td>\n",
       "      <td>1</td>\n",
       "      <td>Number in top 100 94 out of 100</td>\n",
       "      <td>94</td>\n",
       "      <td>In top 100</td>\n",
       "    </tr>\n",
       "    <tr>\n",
       "      <th>4</th>\n",
       "      <td>Low</td>\n",
       "      <td>1</td>\n",
       "      <td>Number in top 10 81 out of 100</td>\n",
       "      <td>81</td>\n",
       "      <td>In top 10</td>\n",
       "    </tr>\n",
       "    <tr>\n",
       "      <th>5</th>\n",
       "      <td>Low</td>\n",
       "      <td>1</td>\n",
       "      <td>Number in top 1 71 out of 100</td>\n",
       "      <td>71</td>\n",
       "      <td>In top 1</td>\n",
       "    </tr>\n",
       "    <tr>\n",
       "      <th>6</th>\n",
       "      <td>Low</td>\n",
       "      <td>2</td>\n",
       "      <td>Number in top 100 90 out of 100</td>\n",
       "      <td>90</td>\n",
       "      <td>In top 100</td>\n",
       "    </tr>\n",
       "    <tr>\n",
       "      <th>7</th>\n",
       "      <td>Low</td>\n",
       "      <td>2</td>\n",
       "      <td>Number in top 10 80 out of 100</td>\n",
       "      <td>80</td>\n",
       "      <td>In top 10</td>\n",
       "    </tr>\n",
       "    <tr>\n",
       "      <th>8</th>\n",
       "      <td>Low</td>\n",
       "      <td>2</td>\n",
       "      <td>Number in top 1 70 out of 100</td>\n",
       "      <td>70</td>\n",
       "      <td>In top 1</td>\n",
       "    </tr>\n",
       "    <tr>\n",
       "      <th>9</th>\n",
       "      <td>Low</td>\n",
       "      <td>2</td>\n",
       "      <td>Number in top 100 94 out of 100</td>\n",
       "      <td>94</td>\n",
       "      <td>In top 100</td>\n",
       "    </tr>\n",
       "    <tr>\n",
       "      <th>10</th>\n",
       "      <td>Low</td>\n",
       "      <td>2</td>\n",
       "      <td>Number in top 10 81 out of 100</td>\n",
       "      <td>81</td>\n",
       "      <td>In top 10</td>\n",
       "    </tr>\n",
       "    <tr>\n",
       "      <th>11</th>\n",
       "      <td>Low</td>\n",
       "      <td>2</td>\n",
       "      <td>Number in top 1 71 out of 100</td>\n",
       "      <td>71</td>\n",
       "      <td>In top 1</td>\n",
       "    </tr>\n",
       "    <tr>\n",
       "      <th>12</th>\n",
       "      <td>Low</td>\n",
       "      <td>3</td>\n",
       "      <td>Number in top 100 90 out of 100</td>\n",
       "      <td>90</td>\n",
       "      <td>In top 100</td>\n",
       "    </tr>\n",
       "    <tr>\n",
       "      <th>13</th>\n",
       "      <td>Low</td>\n",
       "      <td>3</td>\n",
       "      <td>Number in top 10 80 out of 100</td>\n",
       "      <td>80</td>\n",
       "      <td>In top 10</td>\n",
       "    </tr>\n",
       "    <tr>\n",
       "      <th>14</th>\n",
       "      <td>Low</td>\n",
       "      <td>3</td>\n",
       "      <td>Number in top 1 70 out of 100</td>\n",
       "      <td>70</td>\n",
       "      <td>In top 1</td>\n",
       "    </tr>\n",
       "    <tr>\n",
       "      <th>15</th>\n",
       "      <td>Low</td>\n",
       "      <td>3</td>\n",
       "      <td>Number in top 100 94 out of 100</td>\n",
       "      <td>94</td>\n",
       "      <td>In top 100</td>\n",
       "    </tr>\n",
       "    <tr>\n",
       "      <th>16</th>\n",
       "      <td>Low</td>\n",
       "      <td>3</td>\n",
       "      <td>Number in top 10 81 out of 100</td>\n",
       "      <td>81</td>\n",
       "      <td>In top 10</td>\n",
       "    </tr>\n",
       "    <tr>\n",
       "      <th>17</th>\n",
       "      <td>Low</td>\n",
       "      <td>3</td>\n",
       "      <td>Number in top 1 71 out of 100</td>\n",
       "      <td>71</td>\n",
       "      <td>In top 1</td>\n",
       "    </tr>\n",
       "    <tr>\n",
       "      <th>18</th>\n",
       "      <td>Mid</td>\n",
       "      <td>1</td>\n",
       "      <td>Number in top 100 87 out of 100</td>\n",
       "      <td>87</td>\n",
       "      <td>In top 100</td>\n",
       "    </tr>\n",
       "    <tr>\n",
       "      <th>19</th>\n",
       "      <td>Mid</td>\n",
       "      <td>1</td>\n",
       "      <td>Number in top 10 82 out of 100</td>\n",
       "      <td>82</td>\n",
       "      <td>In top 10</td>\n",
       "    </tr>\n",
       "    <tr>\n",
       "      <th>20</th>\n",
       "      <td>Mid</td>\n",
       "      <td>1</td>\n",
       "      <td>Number in top 1 69 out of 100</td>\n",
       "      <td>69</td>\n",
       "      <td>In top 1</td>\n",
       "    </tr>\n",
       "    <tr>\n",
       "      <th>21</th>\n",
       "      <td>Mid</td>\n",
       "      <td>1</td>\n",
       "      <td>Number in top 100 93 out of 100</td>\n",
       "      <td>93</td>\n",
       "      <td>In top 100</td>\n",
       "    </tr>\n",
       "    <tr>\n",
       "      <th>22</th>\n",
       "      <td>Mid</td>\n",
       "      <td>1</td>\n",
       "      <td>Number in top 10 82 out of 100</td>\n",
       "      <td>82</td>\n",
       "      <td>In top 10</td>\n",
       "    </tr>\n",
       "    <tr>\n",
       "      <th>23</th>\n",
       "      <td>Mid</td>\n",
       "      <td>1</td>\n",
       "      <td>Number in top 1 67 out of 100</td>\n",
       "      <td>67</td>\n",
       "      <td>In top 1</td>\n",
       "    </tr>\n",
       "    <tr>\n",
       "      <th>24</th>\n",
       "      <td>Mid</td>\n",
       "      <td>2</td>\n",
       "      <td>Number in top 100 87 out of 100</td>\n",
       "      <td>87</td>\n",
       "      <td>In top 100</td>\n",
       "    </tr>\n",
       "    <tr>\n",
       "      <th>25</th>\n",
       "      <td>Mid</td>\n",
       "      <td>2</td>\n",
       "      <td>Number in top 10 82 out of 100</td>\n",
       "      <td>82</td>\n",
       "      <td>In top 10</td>\n",
       "    </tr>\n",
       "    <tr>\n",
       "      <th>26</th>\n",
       "      <td>Mid</td>\n",
       "      <td>2</td>\n",
       "      <td>Number in top 1 69 out of 100</td>\n",
       "      <td>69</td>\n",
       "      <td>In top 1</td>\n",
       "    </tr>\n",
       "    <tr>\n",
       "      <th>27</th>\n",
       "      <td>Mid</td>\n",
       "      <td>2</td>\n",
       "      <td>Number in top 100 93 out of 100</td>\n",
       "      <td>93</td>\n",
       "      <td>In top 100</td>\n",
       "    </tr>\n",
       "    <tr>\n",
       "      <th>28</th>\n",
       "      <td>Mid</td>\n",
       "      <td>2</td>\n",
       "      <td>Number in top 10 82 out of 100</td>\n",
       "      <td>82</td>\n",
       "      <td>In top 10</td>\n",
       "    </tr>\n",
       "    <tr>\n",
       "      <th>29</th>\n",
       "      <td>Mid</td>\n",
       "      <td>2</td>\n",
       "      <td>Number in top 1 67 out of 100</td>\n",
       "      <td>67</td>\n",
       "      <td>In top 1</td>\n",
       "    </tr>\n",
       "    <tr>\n",
       "      <th>30</th>\n",
       "      <td>Mid</td>\n",
       "      <td>3</td>\n",
       "      <td>Number in top 100 87 out of 100</td>\n",
       "      <td>87</td>\n",
       "      <td>In top 100</td>\n",
       "    </tr>\n",
       "    <tr>\n",
       "      <th>31</th>\n",
       "      <td>Mid</td>\n",
       "      <td>3</td>\n",
       "      <td>Number in top 10 82 out of 100</td>\n",
       "      <td>82</td>\n",
       "      <td>In top 10</td>\n",
       "    </tr>\n",
       "    <tr>\n",
       "      <th>32</th>\n",
       "      <td>Mid</td>\n",
       "      <td>3</td>\n",
       "      <td>Number in top 1 69 out of 100</td>\n",
       "      <td>69</td>\n",
       "      <td>In top 1</td>\n",
       "    </tr>\n",
       "    <tr>\n",
       "      <th>33</th>\n",
       "      <td>Mid</td>\n",
       "      <td>3</td>\n",
       "      <td>Number in top 100 93 out of 100</td>\n",
       "      <td>93</td>\n",
       "      <td>In top 100</td>\n",
       "    </tr>\n",
       "    <tr>\n",
       "      <th>34</th>\n",
       "      <td>Mid</td>\n",
       "      <td>3</td>\n",
       "      <td>Number in top 10 82 out of 100</td>\n",
       "      <td>82</td>\n",
       "      <td>In top 10</td>\n",
       "    </tr>\n",
       "    <tr>\n",
       "      <th>35</th>\n",
       "      <td>Mid</td>\n",
       "      <td>3</td>\n",
       "      <td>Number in top 1 67 out of 100</td>\n",
       "      <td>67</td>\n",
       "      <td>In top 1</td>\n",
       "    </tr>\n",
       "    <tr>\n",
       "      <th>36</th>\n",
       "      <td>High</td>\n",
       "      <td>1</td>\n",
       "      <td>Number in top 100 91 out of 100</td>\n",
       "      <td>91</td>\n",
       "      <td>In top 100</td>\n",
       "    </tr>\n",
       "    <tr>\n",
       "      <th>37</th>\n",
       "      <td>High</td>\n",
       "      <td>1</td>\n",
       "      <td>Number in top 10 85 out of 100</td>\n",
       "      <td>85</td>\n",
       "      <td>In top 10</td>\n",
       "    </tr>\n",
       "    <tr>\n",
       "      <th>38</th>\n",
       "      <td>High</td>\n",
       "      <td>1</td>\n",
       "      <td>Number in top 1 75 out of 100</td>\n",
       "      <td>75</td>\n",
       "      <td>In top 1</td>\n",
       "    </tr>\n",
       "    <tr>\n",
       "      <th>39</th>\n",
       "      <td>High</td>\n",
       "      <td>1</td>\n",
       "      <td>Number in top 100 96 out of 100</td>\n",
       "      <td>96</td>\n",
       "      <td>In top 100</td>\n",
       "    </tr>\n",
       "    <tr>\n",
       "      <th>40</th>\n",
       "      <td>High</td>\n",
       "      <td>1</td>\n",
       "      <td>Number in top 10 90 out of 100</td>\n",
       "      <td>90</td>\n",
       "      <td>In top 10</td>\n",
       "    </tr>\n",
       "    <tr>\n",
       "      <th>41</th>\n",
       "      <td>High</td>\n",
       "      <td>1</td>\n",
       "      <td>Number in top 1 82 out of 100</td>\n",
       "      <td>82</td>\n",
       "      <td>In top 1</td>\n",
       "    </tr>\n",
       "    <tr>\n",
       "      <th>42</th>\n",
       "      <td>High</td>\n",
       "      <td>2</td>\n",
       "      <td>Number in top 100 91 out of 100</td>\n",
       "      <td>91</td>\n",
       "      <td>In top 100</td>\n",
       "    </tr>\n",
       "    <tr>\n",
       "      <th>43</th>\n",
       "      <td>High</td>\n",
       "      <td>2</td>\n",
       "      <td>Number in top 10 85 out of 100</td>\n",
       "      <td>85</td>\n",
       "      <td>In top 10</td>\n",
       "    </tr>\n",
       "    <tr>\n",
       "      <th>44</th>\n",
       "      <td>High</td>\n",
       "      <td>2</td>\n",
       "      <td>Number in top 1 75 out of 100</td>\n",
       "      <td>75</td>\n",
       "      <td>In top 1</td>\n",
       "    </tr>\n",
       "    <tr>\n",
       "      <th>45</th>\n",
       "      <td>High</td>\n",
       "      <td>2</td>\n",
       "      <td>Number in top 100 96 out of 100</td>\n",
       "      <td>96</td>\n",
       "      <td>In top 100</td>\n",
       "    </tr>\n",
       "    <tr>\n",
       "      <th>46</th>\n",
       "      <td>High</td>\n",
       "      <td>2</td>\n",
       "      <td>Number in top 10 90 out of 100</td>\n",
       "      <td>90</td>\n",
       "      <td>In top 10</td>\n",
       "    </tr>\n",
       "    <tr>\n",
       "      <th>47</th>\n",
       "      <td>High</td>\n",
       "      <td>2</td>\n",
       "      <td>Number in top 1 82 out of 100</td>\n",
       "      <td>82</td>\n",
       "      <td>In top 1</td>\n",
       "    </tr>\n",
       "    <tr>\n",
       "      <th>48</th>\n",
       "      <td>High</td>\n",
       "      <td>3</td>\n",
       "      <td>Number in top 100 91 out of 100</td>\n",
       "      <td>91</td>\n",
       "      <td>In top 100</td>\n",
       "    </tr>\n",
       "    <tr>\n",
       "      <th>49</th>\n",
       "      <td>High</td>\n",
       "      <td>3</td>\n",
       "      <td>Number in top 10 85 out of 100</td>\n",
       "      <td>85</td>\n",
       "      <td>In top 10</td>\n",
       "    </tr>\n",
       "    <tr>\n",
       "      <th>50</th>\n",
       "      <td>High</td>\n",
       "      <td>3</td>\n",
       "      <td>Number in top 1 75 out of 100</td>\n",
       "      <td>75</td>\n",
       "      <td>In top 1</td>\n",
       "    </tr>\n",
       "    <tr>\n",
       "      <th>51</th>\n",
       "      <td>High</td>\n",
       "      <td>3</td>\n",
       "      <td>Number in top 100 96 out of 100</td>\n",
       "      <td>96</td>\n",
       "      <td>In top 100</td>\n",
       "    </tr>\n",
       "    <tr>\n",
       "      <th>52</th>\n",
       "      <td>High</td>\n",
       "      <td>3</td>\n",
       "      <td>Number in top 10 90 out of 100</td>\n",
       "      <td>90</td>\n",
       "      <td>In top 10</td>\n",
       "    </tr>\n",
       "    <tr>\n",
       "      <th>53</th>\n",
       "      <td>High</td>\n",
       "      <td>3</td>\n",
       "      <td>Number in top 1 82 out of 100</td>\n",
       "      <td>82</td>\n",
       "      <td>In top 1</td>\n",
       "    </tr>\n",
       "  </tbody>\n",
       "</table>\n",
       "</div>"
      ],
      "text/plain": [
       "   Hydrophobicity Run               League and ranking Ranking      League\n",
       "0             Low   1  Number in top 100 90 out of 100      90  In top 100\n",
       "1             Low   1   Number in top 10 80 out of 100      80   In top 10\n",
       "2             Low   1    Number in top 1 70 out of 100      70    In top 1\n",
       "3             Low   1  Number in top 100 94 out of 100      94  In top 100\n",
       "4             Low   1   Number in top 10 81 out of 100      81   In top 10\n",
       "5             Low   1    Number in top 1 71 out of 100      71    In top 1\n",
       "6             Low   2  Number in top 100 90 out of 100      90  In top 100\n",
       "7             Low   2   Number in top 10 80 out of 100      80   In top 10\n",
       "8             Low   2    Number in top 1 70 out of 100      70    In top 1\n",
       "9             Low   2  Number in top 100 94 out of 100      94  In top 100\n",
       "10            Low   2   Number in top 10 81 out of 100      81   In top 10\n",
       "11            Low   2    Number in top 1 71 out of 100      71    In top 1\n",
       "12            Low   3  Number in top 100 90 out of 100      90  In top 100\n",
       "13            Low   3   Number in top 10 80 out of 100      80   In top 10\n",
       "14            Low   3    Number in top 1 70 out of 100      70    In top 1\n",
       "15            Low   3  Number in top 100 94 out of 100      94  In top 100\n",
       "16            Low   3   Number in top 10 81 out of 100      81   In top 10\n",
       "17            Low   3    Number in top 1 71 out of 100      71    In top 1\n",
       "18            Mid   1  Number in top 100 87 out of 100      87  In top 100\n",
       "19            Mid   1   Number in top 10 82 out of 100      82   In top 10\n",
       "20            Mid   1    Number in top 1 69 out of 100      69    In top 1\n",
       "21            Mid   1  Number in top 100 93 out of 100      93  In top 100\n",
       "22            Mid   1   Number in top 10 82 out of 100      82   In top 10\n",
       "23            Mid   1    Number in top 1 67 out of 100      67    In top 1\n",
       "24            Mid   2  Number in top 100 87 out of 100      87  In top 100\n",
       "25            Mid   2   Number in top 10 82 out of 100      82   In top 10\n",
       "26            Mid   2    Number in top 1 69 out of 100      69    In top 1\n",
       "27            Mid   2  Number in top 100 93 out of 100      93  In top 100\n",
       "28            Mid   2   Number in top 10 82 out of 100      82   In top 10\n",
       "29            Mid   2    Number in top 1 67 out of 100      67    In top 1\n",
       "30            Mid   3  Number in top 100 87 out of 100      87  In top 100\n",
       "31            Mid   3   Number in top 10 82 out of 100      82   In top 10\n",
       "32            Mid   3    Number in top 1 69 out of 100      69    In top 1\n",
       "33            Mid   3  Number in top 100 93 out of 100      93  In top 100\n",
       "34            Mid   3   Number in top 10 82 out of 100      82   In top 10\n",
       "35            Mid   3    Number in top 1 67 out of 100      67    In top 1\n",
       "36           High   1  Number in top 100 91 out of 100      91  In top 100\n",
       "37           High   1   Number in top 10 85 out of 100      85   In top 10\n",
       "38           High   1    Number in top 1 75 out of 100      75    In top 1\n",
       "39           High   1  Number in top 100 96 out of 100      96  In top 100\n",
       "40           High   1   Number in top 10 90 out of 100      90   In top 10\n",
       "41           High   1    Number in top 1 82 out of 100      82    In top 1\n",
       "42           High   2  Number in top 100 91 out of 100      91  In top 100\n",
       "43           High   2   Number in top 10 85 out of 100      85   In top 10\n",
       "44           High   2    Number in top 1 75 out of 100      75    In top 1\n",
       "45           High   2  Number in top 100 96 out of 100      96  In top 100\n",
       "46           High   2   Number in top 10 90 out of 100      90   In top 10\n",
       "47           High   2    Number in top 1 82 out of 100      82    In top 1\n",
       "48           High   3  Number in top 100 91 out of 100      91  In top 100\n",
       "49           High   3   Number in top 10 85 out of 100      85   In top 10\n",
       "50           High   3    Number in top 1 75 out of 100      75    In top 1\n",
       "51           High   3  Number in top 100 96 out of 100      96  In top 100\n",
       "52           High   3   Number in top 10 90 out of 100      90   In top 10\n",
       "53           High   3    Number in top 1 82 out of 100      82    In top 1"
      ]
     },
     "execution_count": 6,
     "metadata": {},
     "output_type": "execute_result"
    }
   ],
   "source": [
    "slurm_output_df"
   ]
  },
  {
   "cell_type": "code",
   "execution_count": 7,
   "metadata": {},
   "outputs": [],
   "source": [
    "''' Because the input consists of 6 rows per for each slurm-output,\n",
    " we need to split these rows based on the number of decoys.\n",
    " 3 rows for 100 decoys and 3 for 2000 decoys'''\n",
    "\n",
    "# All 100 in decoys column first\n",
    "slurm_output_df['Decoys'] = 100\n",
    "\n",
    "# how many slurm runs in concatenated df?\n",
    "df_iterations = len(slurm_output_df)/6\n",
    "\n",
    "# Make list to slice rows with 2000 decoys in next cell\n",
    "start_indeces = [3,4,5]\n",
    "slice_list = []\n",
    "for i in range(int(df_iterations)):\n",
    "    slice_list.extend(start_indeces)\n",
    "    start_indeces = tuple(x+6 for x in start_indeces)\n",
    "    \n",
    "# Change values in 'Decoy' column\n",
    "slurm_output_df.loc[slice_list,'Decoys'] = 2000\n",
    "slurm_output_df['Ranking'] = pd.to_numeric(slurm_output_df['Ranking'])"
   ]
  },
  {
   "cell_type": "code",
   "execution_count": 8,
   "metadata": {},
   "outputs": [
    {
     "name": "stdout",
     "output_type": "stream",
     "text": [
      "p-value 0.05034922092823245\n"
     ]
    }
   ],
   "source": [
    "ttest,pval = ttest_ind(slurm_output_df[slurm_output_df[\"Hydrophobicity\"]==\"High\"]['Ranking'],\n",
    "                       slurm_output_df[slurm_output_df[\"Hydrophobicity\"]==\"Low\"]['Ranking'])\n",
    "print(\"p-value\",pval)"
   ]
  },
  {
   "cell_type": "code",
   "execution_count": 9,
   "metadata": {},
   "outputs": [
    {
     "data": {
      "image/png": "[encoded data removed]",
      "text/plain": [
       "<Figure size 432x288 with 1 Axes>"
      ]
     },
     "metadata": {
      "needs_background": "light"
     },
     "output_type": "display_data"
    }
   ],
   "source": [
    "fig, ax = plt.subplots()\n",
    "ax = sns.boxplot(x=\"Hydrophobicity\", y=\"Ranking\", hue = \"Decoys\", data=slurm_output_df)"
   ]
  },
  {
   "cell_type": "code",
   "execution_count": 10,
   "metadata": {},
   "outputs": [
    {
     "data": {
      "image/png": "[encoded data removed]",
      "text/plain": [
       "<Figure size 432x288 with 1 Axes>"
      ]
     },
     "metadata": {
      "needs_background": "light"
     },
     "output_type": "display_data"
    }
   ],
   "source": [
    "fig, ax = plt.subplots()\n",
    "ax = sns.barplot(x=\"Hydrophobicity\", y=\"Ranking\", hue = \"League\", data=slurm_output_df[slurm_output_df['Decoys']==2000])"
   ]
  },
  {
   "cell_type": "code",
   "execution_count": 11,
   "metadata": {},
   "outputs": [
    {
     "data": {
      "image/png": "[encoded data removed]",
      "text/plain": [
       "<Figure size 432x288 with 1 Axes>"
      ]
     },
     "metadata": {
      "needs_background": "light"
     },
     "output_type": "display_data"
    }
   ],
   "source": [
    "fig, ax = plt.subplots()\n",
    "ax = sns.barplot(x=\"Hydrophobicity\", y=\"Ranking\", hue = \"League\", data=slurm_output_df[slurm_output_df['Decoys']==100])"
   ]
  },
  {
   "cell_type": "code",
   "execution_count": 12,
   "metadata": {},
   "outputs": [],
   "source": [
    "# Ideas for plots:\n",
    "# Scatterplot: hydrophobicity vs. ROC AUC\n"
   ]
  },
  {
   "cell_type": "markdown",
   "metadata": {},
   "source": [
    "# Part 3. Plot results for ROC AUC.\n"
   ]
  },
  {
   "cell_type": "code",
   "execution_count": 30,
   "metadata": {},
   "outputs": [],
   "source": [
    "# Import the dict and convert it to a df\n",
    "data_path = '../data/masif_testing/'\n",
    "F = open(str(data_path + 'interface_output_original_testing.txt'), \"r\")\n",
    "X = F.readlines()"
   ]
  },
  {
   "cell_type": "code",
   "execution_count": 31,
   "metadata": {},
   "outputs": [],
   "source": [
    "#Functions to read .txt and convert to a list of dicts\n",
    "new_line_clipper = lambda x: x.replace(\"\\n\", \"\")\n",
    "nan_replacer = lambda x: x.replace(\"nan\", '\"No result\"' )\n",
    "input_to_dict = lambda x: ast.literal_eval(x)"
   ]
  },
  {
   "cell_type": "code",
   "execution_count": 32,
   "metadata": {},
   "outputs": [],
   "source": [
    "# Map function above to strings in list to convert to list of dicts\n",
    "results = list(map(new_line_clipper, X))\n",
    "results = list(map(nan_replacer, results))\n",
    "results = list(map(input_to_dict, results))"
   ]
  },
  {
   "cell_type": "code",
   "execution_count": 33,
   "metadata": {},
   "outputs": [],
   "source": [
    "# Convert to dataframe\n",
    "results_df = pd.DataFrame(results, columns = ['Protein_pdb', 'Total_mean_hydrophobicity', 'Former_chains_hydrophobicity'])\n",
    "results_df = results_df.applymap(lambda x: x[0])"
   ]
  },
  {
   "cell_type": "code",
   "execution_count": 34,
   "metadata": {},
   "outputs": [],
   "source": [
    "# Now go back to nan, a bit annoying\n",
    "results_df = results_df.replace('No result', np.nan)"
   ]
  },
  {
   "cell_type": "code",
   "execution_count": 35,
   "metadata": {},
   "outputs": [],
   "source": [
    "# Convert to float to allow calculation and ranking\n",
    "pd.to_numeric(results_df['Total_mean_hydrophobicity'], downcast = 'float')\n",
    "pd.to_numeric(results_df['Former_chains_hydrophobicity'], downcast = 'float')\n",
    "# Make column names better for plots, put 'nan' fields back\n",
    "results_df.rename(columns = {\"Total_mean_hydrophobicity\": \"Total hydrophobicity\"}, inplace=True)\n",
    "results_df.rename(columns = {\"Former_chains_hydrophobicity\": \"Former hydrophobicity\"}, inplace=True)"
   ]
  },
  {
   "cell_type": "code",
   "execution_count": 36,
   "metadata": {},
   "outputs": [
    {
     "data": {
      "text/html": [
       "<div>\n",
       "<style scoped>\n",
       "    .dataframe tbody tr th:only-of-type {\n",
       "        vertical-align: middle;\n",
       "    }\n",
       "\n",
       "    .dataframe tbody tr th {\n",
       "        vertical-align: top;\n",
       "    }\n",
       "\n",
       "    .dataframe thead th {\n",
       "        text-align: right;\n",
       "    }\n",
       "</style>\n",
       "<table border=\"1\" class=\"dataframe\">\n",
       "  <thead>\n",
       "    <tr style=\"text-align: right;\">\n",
       "      <th></th>\n",
       "      <th>Protein_pdb</th>\n",
       "      <th>Total hydrophobicity</th>\n",
       "      <th>Former hydrophobicity</th>\n",
       "    </tr>\n",
       "  </thead>\n",
       "  <tbody>\n",
       "    <tr>\n",
       "      <th>0</th>\n",
       "      <td>1AN1_E_I</td>\n",
       "      <td>29.000000</td>\n",
       "      <td>49.000000</td>\n",
       "    </tr>\n",
       "    <tr>\n",
       "      <th>1</th>\n",
       "      <td>1AGQ_C_D</td>\n",
       "      <td>37.850000</td>\n",
       "      <td>32.300000</td>\n",
       "    </tr>\n",
       "    <tr>\n",
       "      <th>2</th>\n",
       "      <td>1AK4_A_D</td>\n",
       "      <td>41.500000</td>\n",
       "      <td>100.000000</td>\n",
       "    </tr>\n",
       "    <tr>\n",
       "      <th>3</th>\n",
       "      <td>1ACB_E_I</td>\n",
       "      <td>21.000000</td>\n",
       "      <td>49.000000</td>\n",
       "    </tr>\n",
       "    <tr>\n",
       "      <th>4</th>\n",
       "      <td>1A2W_A_B</td>\n",
       "      <td>21.282051</td>\n",
       "      <td>18.333333</td>\n",
       "    </tr>\n",
       "    <tr>\n",
       "      <th>...</th>\n",
       "      <td>...</td>\n",
       "      <td>...</td>\n",
       "      <td>...</td>\n",
       "    </tr>\n",
       "    <tr>\n",
       "      <th>852</th>\n",
       "      <td>4TQ1_A_B</td>\n",
       "      <td>38.690476</td>\n",
       "      <td>18.714286</td>\n",
       "    </tr>\n",
       "    <tr>\n",
       "      <th>853</th>\n",
       "      <td>4XL5_A_C</td>\n",
       "      <td>11.166667</td>\n",
       "      <td>23.666667</td>\n",
       "    </tr>\n",
       "    <tr>\n",
       "      <th>854</th>\n",
       "      <td>5AYS_A_C</td>\n",
       "      <td>24.333333</td>\n",
       "      <td>1.666667</td>\n",
       "    </tr>\n",
       "    <tr>\n",
       "      <th>855</th>\n",
       "      <td>5DMJ_A_B</td>\n",
       "      <td>46.000000</td>\n",
       "      <td>29.000000</td>\n",
       "    </tr>\n",
       "    <tr>\n",
       "      <th>856</th>\n",
       "      <td>5JLV_A_C</td>\n",
       "      <td>NaN</td>\n",
       "      <td>NaN</td>\n",
       "    </tr>\n",
       "  </tbody>\n",
       "</table>\n",
       "<p>857 rows × 3 columns</p>\n",
       "</div>"
      ],
      "text/plain": [
       "    Protein_pdb  Total hydrophobicity  Former hydrophobicity\n",
       "0      1AN1_E_I             29.000000              49.000000\n",
       "1      1AGQ_C_D             37.850000              32.300000\n",
       "2      1AK4_A_D             41.500000             100.000000\n",
       "3      1ACB_E_I             21.000000              49.000000\n",
       "4      1A2W_A_B             21.282051              18.333333\n",
       "..          ...                   ...                    ...\n",
       "852    4TQ1_A_B             38.690476              18.714286\n",
       "853    4XL5_A_C             11.166667              23.666667\n",
       "854    5AYS_A_C             24.333333               1.666667\n",
       "855    5DMJ_A_B             46.000000              29.000000\n",
       "856    5JLV_A_C                   NaN                    NaN\n",
       "\n",
       "[857 rows x 3 columns]"
      ]
     },
     "execution_count": 36,
     "metadata": {},
     "output_type": "execute_result"
    }
   ],
   "source": [
    "results_df"
   ]
  },
  {
   "cell_type": "code",
   "execution_count": 37,
   "metadata": {},
   "outputs": [],
   "source": [
    "# For our purposes, remove nans\n",
    "results_df = results_df.dropna()"
   ]
  },
  {
   "cell_type": "code",
   "execution_count": 38,
   "metadata": {},
   "outputs": [],
   "source": [
    "G = open(str(data_path + 'roc_auc_for_all.txt'), \"r\")\n",
    "Y = G.readlines()"
   ]
  },
  {
   "cell_type": "code",
   "execution_count": 39,
   "metadata": {},
   "outputs": [],
   "source": [
    "splitter_fun = lambda x: x.split('; num pos:')[0]\n",
    "roc_remove = lambda x: x.replace(': ROC AUC:', ',')\n",
    "str_splitter = lambda x: x.split(',')"
   ]
  },
  {
   "cell_type": "code",
   "execution_count": 40,
   "metadata": {},
   "outputs": [
    {
     "ename": "ValueError",
     "evalue": "malformed node or string: ['2BMA_C_B', ' 1.000000']",
     "output_type": "error",
     "traceback": [
      "\u001b[0;31m---------------------------------------------------------------------------\u001b[0m",
      "\u001b[0;31mValueError\u001b[0m                                Traceback (most recent call last)",
      "\u001b[0;32m<ipython-input-40-719e78104503>\u001b[0m in \u001b[0;36m<module>\u001b[0;34m\u001b[0m\n\u001b[1;32m      2\u001b[0m \u001b[0mROC_results\u001b[0m \u001b[0;34m=\u001b[0m \u001b[0mlist\u001b[0m\u001b[0;34m(\u001b[0m\u001b[0mmap\u001b[0m\u001b[0;34m(\u001b[0m\u001b[0mroc_remove\u001b[0m\u001b[0;34m,\u001b[0m \u001b[0mROC_results\u001b[0m\u001b[0;34m)\u001b[0m\u001b[0;34m)\u001b[0m\u001b[0;34m\u001b[0m\u001b[0;34m\u001b[0m\u001b[0m\n\u001b[1;32m      3\u001b[0m \u001b[0mROC_results\u001b[0m \u001b[0;34m=\u001b[0m \u001b[0mlist\u001b[0m\u001b[0;34m(\u001b[0m\u001b[0mmap\u001b[0m\u001b[0;34m(\u001b[0m\u001b[0mstr_splitter\u001b[0m\u001b[0;34m,\u001b[0m \u001b[0mROC_results\u001b[0m\u001b[0;34m)\u001b[0m\u001b[0;34m)\u001b[0m\u001b[0;34m\u001b[0m\u001b[0;34m\u001b[0m\u001b[0m\n\u001b[0;32m----> 4\u001b[0;31m \u001b[0mROC_results\u001b[0m \u001b[0;34m=\u001b[0m \u001b[0mlist\u001b[0m\u001b[0;34m(\u001b[0m\u001b[0mmap\u001b[0m\u001b[0;34m(\u001b[0m\u001b[0minput_to_dict\u001b[0m\u001b[0;34m,\u001b[0m \u001b[0mROC_results\u001b[0m\u001b[0;34m)\u001b[0m\u001b[0;34m)\u001b[0m\u001b[0;34m\u001b[0m\u001b[0;34m\u001b[0m\u001b[0m\n\u001b[0m",
      "\u001b[0;32m<ipython-input-31-379117294fac>\u001b[0m in \u001b[0;36m<lambda>\u001b[0;34m(x)\u001b[0m\n\u001b[1;32m      2\u001b[0m \u001b[0mnew_line_clipper\u001b[0m \u001b[0;34m=\u001b[0m \u001b[0;32mlambda\u001b[0m \u001b[0mx\u001b[0m\u001b[0;34m:\u001b[0m \u001b[0mx\u001b[0m\u001b[0;34m.\u001b[0m\u001b[0mreplace\u001b[0m\u001b[0;34m(\u001b[0m\u001b[0;34m\"\\n\"\u001b[0m\u001b[0;34m,\u001b[0m \u001b[0;34m\"\"\u001b[0m\u001b[0;34m)\u001b[0m\u001b[0;34m\u001b[0m\u001b[0;34m\u001b[0m\u001b[0m\n\u001b[1;32m      3\u001b[0m \u001b[0mnan_replacer\u001b[0m \u001b[0;34m=\u001b[0m \u001b[0;32mlambda\u001b[0m \u001b[0mx\u001b[0m\u001b[0;34m:\u001b[0m \u001b[0mx\u001b[0m\u001b[0;34m.\u001b[0m\u001b[0mreplace\u001b[0m\u001b[0;34m(\u001b[0m\u001b[0;34m\"nan\"\u001b[0m\u001b[0;34m,\u001b[0m \u001b[0;34m'\"No result\"'\u001b[0m \u001b[0;34m)\u001b[0m\u001b[0;34m\u001b[0m\u001b[0;34m\u001b[0m\u001b[0m\n\u001b[0;32m----> 4\u001b[0;31m \u001b[0minput_to_dict\u001b[0m \u001b[0;34m=\u001b[0m \u001b[0;32mlambda\u001b[0m \u001b[0mx\u001b[0m\u001b[0;34m:\u001b[0m \u001b[0mast\u001b[0m\u001b[0;34m.\u001b[0m\u001b[0mliteral_eval\u001b[0m\u001b[0;34m(\u001b[0m\u001b[0mx\u001b[0m\u001b[0;34m)\u001b[0m\u001b[0;34m\u001b[0m\u001b[0;34m\u001b[0m\u001b[0m\n\u001b[0m",
      "\u001b[0;32m~/anaconda3/lib/python3.8/ast.py\u001b[0m in \u001b[0;36mliteral_eval\u001b[0;34m(node_or_string)\u001b[0m\n\u001b[1;32m     97\u001b[0m                     \u001b[0;32mreturn\u001b[0m \u001b[0mleft\u001b[0m \u001b[0;34m-\u001b[0m \u001b[0mright\u001b[0m\u001b[0;34m\u001b[0m\u001b[0;34m\u001b[0m\u001b[0m\n\u001b[1;32m     98\u001b[0m         \u001b[0;32mreturn\u001b[0m \u001b[0m_convert_signed_num\u001b[0m\u001b[0;34m(\u001b[0m\u001b[0mnode\u001b[0m\u001b[0;34m)\u001b[0m\u001b[0;34m\u001b[0m\u001b[0;34m\u001b[0m\u001b[0m\n\u001b[0;32m---> 99\u001b[0;31m     \u001b[0;32mreturn\u001b[0m \u001b[0m_convert\u001b[0m\u001b[0;34m(\u001b[0m\u001b[0mnode_or_string\u001b[0m\u001b[0;34m)\u001b[0m\u001b[0;34m\u001b[0m\u001b[0;34m\u001b[0m\u001b[0m\n\u001b[0m\u001b[1;32m    100\u001b[0m \u001b[0;34m\u001b[0m\u001b[0m\n\u001b[1;32m    101\u001b[0m \u001b[0;34m\u001b[0m\u001b[0m\n",
      "\u001b[0;32m~/anaconda3/lib/python3.8/ast.py\u001b[0m in \u001b[0;36m_convert\u001b[0;34m(node)\u001b[0m\n\u001b[1;32m     96\u001b[0m                 \u001b[0;32melse\u001b[0m\u001b[0;34m:\u001b[0m\u001b[0;34m\u001b[0m\u001b[0;34m\u001b[0m\u001b[0m\n\u001b[1;32m     97\u001b[0m                     \u001b[0;32mreturn\u001b[0m \u001b[0mleft\u001b[0m \u001b[0;34m-\u001b[0m \u001b[0mright\u001b[0m\u001b[0;34m\u001b[0m\u001b[0;34m\u001b[0m\u001b[0m\n\u001b[0;32m---> 98\u001b[0;31m         \u001b[0;32mreturn\u001b[0m \u001b[0m_convert_signed_num\u001b[0m\u001b[0;34m(\u001b[0m\u001b[0mnode\u001b[0m\u001b[0;34m)\u001b[0m\u001b[0;34m\u001b[0m\u001b[0;34m\u001b[0m\u001b[0m\n\u001b[0m\u001b[1;32m     99\u001b[0m     \u001b[0;32mreturn\u001b[0m \u001b[0m_convert\u001b[0m\u001b[0;34m(\u001b[0m\u001b[0mnode_or_string\u001b[0m\u001b[0;34m)\u001b[0m\u001b[0;34m\u001b[0m\u001b[0;34m\u001b[0m\u001b[0m\n\u001b[1;32m    100\u001b[0m \u001b[0;34m\u001b[0m\u001b[0m\n",
      "\u001b[0;32m~/anaconda3/lib/python3.8/ast.py\u001b[0m in \u001b[0;36m_convert_signed_num\u001b[0;34m(node)\u001b[0m\n\u001b[1;32m     73\u001b[0m             \u001b[0;32melse\u001b[0m\u001b[0;34m:\u001b[0m\u001b[0;34m\u001b[0m\u001b[0;34m\u001b[0m\u001b[0m\n\u001b[1;32m     74\u001b[0m                 \u001b[0;32mreturn\u001b[0m \u001b[0;34m-\u001b[0m \u001b[0moperand\u001b[0m\u001b[0;34m\u001b[0m\u001b[0;34m\u001b[0m\u001b[0m\n\u001b[0;32m---> 75\u001b[0;31m         \u001b[0;32mreturn\u001b[0m \u001b[0m_convert_num\u001b[0m\u001b[0;34m(\u001b[0m\u001b[0mnode\u001b[0m\u001b[0;34m)\u001b[0m\u001b[0;34m\u001b[0m\u001b[0;34m\u001b[0m\u001b[0m\n\u001b[0m\u001b[1;32m     76\u001b[0m     \u001b[0;32mdef\u001b[0m \u001b[0m_convert\u001b[0m\u001b[0;34m(\u001b[0m\u001b[0mnode\u001b[0m\u001b[0;34m)\u001b[0m\u001b[0;34m:\u001b[0m\u001b[0;34m\u001b[0m\u001b[0;34m\u001b[0m\u001b[0m\n\u001b[1;32m     77\u001b[0m         \u001b[0;32mif\u001b[0m \u001b[0misinstance\u001b[0m\u001b[0;34m(\u001b[0m\u001b[0mnode\u001b[0m\u001b[0;34m,\u001b[0m \u001b[0mConstant\u001b[0m\u001b[0;34m)\u001b[0m\u001b[0;34m:\u001b[0m\u001b[0;34m\u001b[0m\u001b[0;34m\u001b[0m\u001b[0m\n",
      "\u001b[0;32m~/anaconda3/lib/python3.8/ast.py\u001b[0m in \u001b[0;36m_convert_num\u001b[0;34m(node)\u001b[0m\n\u001b[1;32m     64\u001b[0m     \u001b[0;32mdef\u001b[0m \u001b[0m_convert_num\u001b[0m\u001b[0;34m(\u001b[0m\u001b[0mnode\u001b[0m\u001b[0;34m)\u001b[0m\u001b[0;34m:\u001b[0m\u001b[0;34m\u001b[0m\u001b[0;34m\u001b[0m\u001b[0m\n\u001b[1;32m     65\u001b[0m         \u001b[0;32mif\u001b[0m \u001b[0;32mnot\u001b[0m \u001b[0misinstance\u001b[0m\u001b[0;34m(\u001b[0m\u001b[0mnode\u001b[0m\u001b[0;34m,\u001b[0m \u001b[0mConstant\u001b[0m\u001b[0;34m)\u001b[0m \u001b[0;32mor\u001b[0m \u001b[0mtype\u001b[0m\u001b[0;34m(\u001b[0m\u001b[0mnode\u001b[0m\u001b[0;34m.\u001b[0m\u001b[0mvalue\u001b[0m\u001b[0;34m)\u001b[0m \u001b[0;32mnot\u001b[0m \u001b[0;32min\u001b[0m \u001b[0;34m(\u001b[0m\u001b[0mint\u001b[0m\u001b[0;34m,\u001b[0m \u001b[0mfloat\u001b[0m\u001b[0;34m,\u001b[0m \u001b[0mcomplex\u001b[0m\u001b[0;34m)\u001b[0m\u001b[0;34m:\u001b[0m\u001b[0;34m\u001b[0m\u001b[0;34m\u001b[0m\u001b[0m\n\u001b[0;32m---> 66\u001b[0;31m             \u001b[0m_raise_malformed_node\u001b[0m\u001b[0;34m(\u001b[0m\u001b[0mnode\u001b[0m\u001b[0;34m)\u001b[0m\u001b[0;34m\u001b[0m\u001b[0;34m\u001b[0m\u001b[0m\n\u001b[0m\u001b[1;32m     67\u001b[0m         \u001b[0;32mreturn\u001b[0m \u001b[0mnode\u001b[0m\u001b[0;34m.\u001b[0m\u001b[0mvalue\u001b[0m\u001b[0;34m\u001b[0m\u001b[0;34m\u001b[0m\u001b[0m\n\u001b[1;32m     68\u001b[0m     \u001b[0;32mdef\u001b[0m \u001b[0m_convert_signed_num\u001b[0m\u001b[0;34m(\u001b[0m\u001b[0mnode\u001b[0m\u001b[0;34m)\u001b[0m\u001b[0;34m:\u001b[0m\u001b[0;34m\u001b[0m\u001b[0;34m\u001b[0m\u001b[0m\n",
      "\u001b[0;32m~/anaconda3/lib/python3.8/ast.py\u001b[0m in \u001b[0;36m_raise_malformed_node\u001b[0;34m(node)\u001b[0m\n\u001b[1;32m     61\u001b[0m         \u001b[0mnode_or_string\u001b[0m \u001b[0;34m=\u001b[0m \u001b[0mnode_or_string\u001b[0m\u001b[0;34m.\u001b[0m\u001b[0mbody\u001b[0m\u001b[0;34m\u001b[0m\u001b[0;34m\u001b[0m\u001b[0m\n\u001b[1;32m     62\u001b[0m     \u001b[0;32mdef\u001b[0m \u001b[0m_raise_malformed_node\u001b[0m\u001b[0;34m(\u001b[0m\u001b[0mnode\u001b[0m\u001b[0;34m)\u001b[0m\u001b[0;34m:\u001b[0m\u001b[0;34m\u001b[0m\u001b[0;34m\u001b[0m\u001b[0m\n\u001b[0;32m---> 63\u001b[0;31m         \u001b[0;32mraise\u001b[0m \u001b[0mValueError\u001b[0m\u001b[0;34m(\u001b[0m\u001b[0;34mf'malformed node or string: {node!r}'\u001b[0m\u001b[0;34m)\u001b[0m\u001b[0;34m\u001b[0m\u001b[0;34m\u001b[0m\u001b[0m\n\u001b[0m\u001b[1;32m     64\u001b[0m     \u001b[0;32mdef\u001b[0m \u001b[0m_convert_num\u001b[0m\u001b[0;34m(\u001b[0m\u001b[0mnode\u001b[0m\u001b[0;34m)\u001b[0m\u001b[0;34m:\u001b[0m\u001b[0;34m\u001b[0m\u001b[0;34m\u001b[0m\u001b[0m\n\u001b[1;32m     65\u001b[0m         \u001b[0;32mif\u001b[0m \u001b[0;32mnot\u001b[0m \u001b[0misinstance\u001b[0m\u001b[0;34m(\u001b[0m\u001b[0mnode\u001b[0m\u001b[0;34m,\u001b[0m \u001b[0mConstant\u001b[0m\u001b[0;34m)\u001b[0m \u001b[0;32mor\u001b[0m \u001b[0mtype\u001b[0m\u001b[0;34m(\u001b[0m\u001b[0mnode\u001b[0m\u001b[0;34m.\u001b[0m\u001b[0mvalue\u001b[0m\u001b[0;34m)\u001b[0m \u001b[0;32mnot\u001b[0m \u001b[0;32min\u001b[0m \u001b[0;34m(\u001b[0m\u001b[0mint\u001b[0m\u001b[0;34m,\u001b[0m \u001b[0mfloat\u001b[0m\u001b[0;34m,\u001b[0m \u001b[0mcomplex\u001b[0m\u001b[0;34m)\u001b[0m\u001b[0;34m:\u001b[0m\u001b[0;34m\u001b[0m\u001b[0;34m\u001b[0m\u001b[0m\n",
      "\u001b[0;31mValueError\u001b[0m: malformed node or string: ['2BMA_C_B', ' 1.000000']"
     ]
    }
   ],
   "source": [
    "ROC_results = list(map(splitter_fun, Y))\n",
    "ROC_results = list(map(roc_remove, ROC_results))\n",
    "ROC_results = list(map(str_splitter, ROC_results))\n",
    "ROC_results = list(map(input_to_dict, ROC_results))"
   ]
  },
  {
   "cell_type": "code",
   "execution_count": 41,
   "metadata": {},
   "outputs": [],
   "source": [
    "ROC_results_df = pd.DataFrame(ROC_results, columns=['Protein_pdb', 'ROC AUC'])"
   ]
  },
  {
   "cell_type": "code",
   "execution_count": 42,
   "metadata": {},
   "outputs": [
    {
     "data": {
      "text/html": [
       "<div>\n",
       "<style scoped>\n",
       "    .dataframe tbody tr th:only-of-type {\n",
       "        vertical-align: middle;\n",
       "    }\n",
       "\n",
       "    .dataframe tbody tr th {\n",
       "        vertical-align: top;\n",
       "    }\n",
       "\n",
       "    .dataframe thead th {\n",
       "        text-align: right;\n",
       "    }\n",
       "</style>\n",
       "<table border=\"1\" class=\"dataframe\">\n",
       "  <thead>\n",
       "    <tr style=\"text-align: right;\">\n",
       "      <th></th>\n",
       "      <th>Protein_pdb</th>\n",
       "      <th>ROC AUC</th>\n",
       "    </tr>\n",
       "  </thead>\n",
       "  <tbody>\n",
       "    <tr>\n",
       "      <th>0</th>\n",
       "      <td>2BMA_C_B</td>\n",
       "      <td>1.000000</td>\n",
       "    </tr>\n",
       "    <tr>\n",
       "      <th>1</th>\n",
       "      <td>2X9A_A_D</td>\n",
       "      <td>0.940000</td>\n",
       "    </tr>\n",
       "    <tr>\n",
       "      <th>2</th>\n",
       "      <td>3TDM_A_B</td>\n",
       "      <td>0.973333</td>\n",
       "    </tr>\n",
       "    <tr>\n",
       "      <th>3</th>\n",
       "      <td>1J4U_A_B</td>\n",
       "      <td>1.000000</td>\n",
       "    </tr>\n",
       "    <tr>\n",
       "      <th>4</th>\n",
       "      <td>2GQS_A_B</td>\n",
       "      <td>0.973937</td>\n",
       "    </tr>\n",
       "    <tr>\n",
       "      <th>...</th>\n",
       "      <td>...</td>\n",
       "      <td>...</td>\n",
       "    </tr>\n",
       "    <tr>\n",
       "      <th>688</th>\n",
       "      <td>3SJ9_A_B</td>\n",
       "      <td>0.994083</td>\n",
       "    </tr>\n",
       "    <tr>\n",
       "      <th>689</th>\n",
       "      <td>3CEW_C_D</td>\n",
       "      <td>0.956294</td>\n",
       "    </tr>\n",
       "    <tr>\n",
       "      <th>690</th>\n",
       "      <td>1L4I_A_B</td>\n",
       "      <td>1.000000</td>\n",
       "    </tr>\n",
       "    <tr>\n",
       "      <th>691</th>\n",
       "      <td>1W1I_B_E</td>\n",
       "      <td>1.000000</td>\n",
       "    </tr>\n",
       "    <tr>\n",
       "      <th>692</th>\n",
       "      <td>1L2W_C_J</td>\n",
       "      <td>1.000000</td>\n",
       "    </tr>\n",
       "  </tbody>\n",
       "</table>\n",
       "<p>693 rows × 2 columns</p>\n",
       "</div>"
      ],
      "text/plain": [
       "    Protein_pdb    ROC AUC\n",
       "0      2BMA_C_B   1.000000\n",
       "1      2X9A_A_D   0.940000\n",
       "2      3TDM_A_B   0.973333\n",
       "3      1J4U_A_B   1.000000\n",
       "4      2GQS_A_B   0.973937\n",
       "..          ...        ...\n",
       "688    3SJ9_A_B   0.994083\n",
       "689    3CEW_C_D   0.956294\n",
       "690    1L4I_A_B   1.000000\n",
       "691    1W1I_B_E   1.000000\n",
       "692    1L2W_C_J   1.000000\n",
       "\n",
       "[693 rows x 2 columns]"
      ]
     },
     "execution_count": 42,
     "metadata": {},
     "output_type": "execute_result"
    }
   ],
   "source": [
    "ROC_results_df"
   ]
  },
  {
   "cell_type": "code",
   "execution_count": 43,
   "metadata": {},
   "outputs": [],
   "source": [
    "full_results_df = pd.merge(ROC_results_df, results_df, how = 'inner')"
   ]
  },
  {
   "cell_type": "code",
   "execution_count": 62,
   "metadata": {},
   "outputs": [],
   "source": [
    "full_results_df = full_results_df.dropna()"
   ]
  },
  {
   "cell_type": "code",
   "execution_count": 75,
   "metadata": {},
   "outputs": [
    {
     "data": {
      "text/plain": [
       "<AxesSubplot:xlabel='Total hydrophobicity', ylabel='ROC AUC'>"
      ]
     },
     "execution_count": 75,
     "metadata": {},
     "output_type": "execute_result"
    },
    {
     "data": {
      "image/png": "[encoded data removed]",
      "text/plain": [
       "<Figure size 432x288 with 1 Axes>"
      ]
     },
     "metadata": {},
     "output_type": "display_data"
    }
   ],
   "source": [
    "plt.clf()\n",
    "sns.scatterplot(data=full_results_df,x=\"Total hydrophobicity\", y=\"ROC AUC\")"
   ]
  },
  {
   "cell_type": "code",
   "execution_count": 64,
   "metadata": {},
   "outputs": [
    {
     "ename": "KeyError",
     "evalue": "\"['Protein_pdb'] not found in axis\"",
     "output_type": "error",
     "traceback": [
      "\u001b[0;31m---------------------------------------------------------------------------\u001b[0m",
      "\u001b[0;31mKeyError\u001b[0m                                  Traceback (most recent call last)",
      "\u001b[0;32m<ipython-input-64-98e49de836e7>\u001b[0m in \u001b[0;36m<module>\u001b[0;34m\u001b[0m\n\u001b[0;32m----> 1\u001b[0;31m \u001b[0mfull_results_df\u001b[0m\u001b[0;34m=\u001b[0m\u001b[0mfull_results_df\u001b[0m\u001b[0;34m.\u001b[0m\u001b[0mdrop\u001b[0m\u001b[0;34m(\u001b[0m\u001b[0;34m[\u001b[0m\u001b[0;34m\"Protein_pdb\"\u001b[0m\u001b[0;34m]\u001b[0m\u001b[0;34m,\u001b[0m \u001b[0maxis\u001b[0m \u001b[0;34m=\u001b[0m\u001b[0;36m1\u001b[0m\u001b[0;34m)\u001b[0m\u001b[0;34m\u001b[0m\u001b[0;34m\u001b[0m\u001b[0m\n\u001b[0m",
      "\u001b[0;32m~/anaconda3/lib/python3.8/site-packages/pandas/core/frame.py\u001b[0m in \u001b[0;36mdrop\u001b[0;34m(self, labels, axis, index, columns, level, inplace, errors)\u001b[0m\n\u001b[1;32m   4161\u001b[0m                 \u001b[0mweight\u001b[0m  \u001b[0;36m1.0\u001b[0m     \u001b[0;36m0.8\u001b[0m\u001b[0;34m\u001b[0m\u001b[0;34m\u001b[0m\u001b[0m\n\u001b[1;32m   4162\u001b[0m         \"\"\"\n\u001b[0;32m-> 4163\u001b[0;31m         return super().drop(\n\u001b[0m\u001b[1;32m   4164\u001b[0m             \u001b[0mlabels\u001b[0m\u001b[0;34m=\u001b[0m\u001b[0mlabels\u001b[0m\u001b[0;34m,\u001b[0m\u001b[0;34m\u001b[0m\u001b[0;34m\u001b[0m\u001b[0m\n\u001b[1;32m   4165\u001b[0m             \u001b[0maxis\u001b[0m\u001b[0;34m=\u001b[0m\u001b[0maxis\u001b[0m\u001b[0;34m,\u001b[0m\u001b[0;34m\u001b[0m\u001b[0;34m\u001b[0m\u001b[0m\n",
      "\u001b[0;32m~/anaconda3/lib/python3.8/site-packages/pandas/core/generic.py\u001b[0m in \u001b[0;36mdrop\u001b[0;34m(self, labels, axis, index, columns, level, inplace, errors)\u001b[0m\n\u001b[1;32m   3885\u001b[0m         \u001b[0;32mfor\u001b[0m \u001b[0maxis\u001b[0m\u001b[0;34m,\u001b[0m \u001b[0mlabels\u001b[0m \u001b[0;32min\u001b[0m \u001b[0maxes\u001b[0m\u001b[0;34m.\u001b[0m\u001b[0mitems\u001b[0m\u001b[0;34m(\u001b[0m\u001b[0;34m)\u001b[0m\u001b[0;34m:\u001b[0m\u001b[0;34m\u001b[0m\u001b[0;34m\u001b[0m\u001b[0m\n\u001b[1;32m   3886\u001b[0m             \u001b[0;32mif\u001b[0m \u001b[0mlabels\u001b[0m \u001b[0;32mis\u001b[0m \u001b[0;32mnot\u001b[0m \u001b[0;32mNone\u001b[0m\u001b[0;34m:\u001b[0m\u001b[0;34m\u001b[0m\u001b[0;34m\u001b[0m\u001b[0m\n\u001b[0;32m-> 3887\u001b[0;31m                 \u001b[0mobj\u001b[0m \u001b[0;34m=\u001b[0m \u001b[0mobj\u001b[0m\u001b[0;34m.\u001b[0m\u001b[0m_drop_axis\u001b[0m\u001b[0;34m(\u001b[0m\u001b[0mlabels\u001b[0m\u001b[0;34m,\u001b[0m \u001b[0maxis\u001b[0m\u001b[0;34m,\u001b[0m \u001b[0mlevel\u001b[0m\u001b[0;34m=\u001b[0m\u001b[0mlevel\u001b[0m\u001b[0;34m,\u001b[0m \u001b[0merrors\u001b[0m\u001b[0;34m=\u001b[0m\u001b[0merrors\u001b[0m\u001b[0;34m)\u001b[0m\u001b[0;34m\u001b[0m\u001b[0;34m\u001b[0m\u001b[0m\n\u001b[0m\u001b[1;32m   3888\u001b[0m \u001b[0;34m\u001b[0m\u001b[0m\n\u001b[1;32m   3889\u001b[0m         \u001b[0;32mif\u001b[0m \u001b[0minplace\u001b[0m\u001b[0;34m:\u001b[0m\u001b[0;34m\u001b[0m\u001b[0;34m\u001b[0m\u001b[0m\n",
      "\u001b[0;32m~/anaconda3/lib/python3.8/site-packages/pandas/core/generic.py\u001b[0m in \u001b[0;36m_drop_axis\u001b[0;34m(self, labels, axis, level, errors)\u001b[0m\n\u001b[1;32m   3919\u001b[0m                 \u001b[0mnew_axis\u001b[0m \u001b[0;34m=\u001b[0m \u001b[0maxis\u001b[0m\u001b[0;34m.\u001b[0m\u001b[0mdrop\u001b[0m\u001b[0;34m(\u001b[0m\u001b[0mlabels\u001b[0m\u001b[0;34m,\u001b[0m \u001b[0mlevel\u001b[0m\u001b[0;34m=\u001b[0m\u001b[0mlevel\u001b[0m\u001b[0;34m,\u001b[0m \u001b[0merrors\u001b[0m\u001b[0;34m=\u001b[0m\u001b[0merrors\u001b[0m\u001b[0;34m)\u001b[0m\u001b[0;34m\u001b[0m\u001b[0;34m\u001b[0m\u001b[0m\n\u001b[1;32m   3920\u001b[0m             \u001b[0;32melse\u001b[0m\u001b[0;34m:\u001b[0m\u001b[0;34m\u001b[0m\u001b[0;34m\u001b[0m\u001b[0m\n\u001b[0;32m-> 3921\u001b[0;31m                 \u001b[0mnew_axis\u001b[0m \u001b[0;34m=\u001b[0m \u001b[0maxis\u001b[0m\u001b[0;34m.\u001b[0m\u001b[0mdrop\u001b[0m\u001b[0;34m(\u001b[0m\u001b[0mlabels\u001b[0m\u001b[0;34m,\u001b[0m \u001b[0merrors\u001b[0m\u001b[0;34m=\u001b[0m\u001b[0merrors\u001b[0m\u001b[0;34m)\u001b[0m\u001b[0;34m\u001b[0m\u001b[0;34m\u001b[0m\u001b[0m\n\u001b[0m\u001b[1;32m   3922\u001b[0m             \u001b[0mresult\u001b[0m \u001b[0;34m=\u001b[0m \u001b[0mself\u001b[0m\u001b[0;34m.\u001b[0m\u001b[0mreindex\u001b[0m\u001b[0;34m(\u001b[0m\u001b[0;34m**\u001b[0m\u001b[0;34m{\u001b[0m\u001b[0maxis_name\u001b[0m\u001b[0;34m:\u001b[0m \u001b[0mnew_axis\u001b[0m\u001b[0;34m}\u001b[0m\u001b[0;34m)\u001b[0m\u001b[0;34m\u001b[0m\u001b[0;34m\u001b[0m\u001b[0m\n\u001b[1;32m   3923\u001b[0m \u001b[0;34m\u001b[0m\u001b[0m\n",
      "\u001b[0;32m~/anaconda3/lib/python3.8/site-packages/pandas/core/indexes/base.py\u001b[0m in \u001b[0;36mdrop\u001b[0;34m(self, labels, errors)\u001b[0m\n\u001b[1;32m   5280\u001b[0m         \u001b[0;32mif\u001b[0m \u001b[0mmask\u001b[0m\u001b[0;34m.\u001b[0m\u001b[0many\u001b[0m\u001b[0;34m(\u001b[0m\u001b[0;34m)\u001b[0m\u001b[0;34m:\u001b[0m\u001b[0;34m\u001b[0m\u001b[0;34m\u001b[0m\u001b[0m\n\u001b[1;32m   5281\u001b[0m             \u001b[0;32mif\u001b[0m \u001b[0merrors\u001b[0m \u001b[0;34m!=\u001b[0m \u001b[0;34m\"ignore\"\u001b[0m\u001b[0;34m:\u001b[0m\u001b[0;34m\u001b[0m\u001b[0;34m\u001b[0m\u001b[0m\n\u001b[0;32m-> 5282\u001b[0;31m                 \u001b[0;32mraise\u001b[0m \u001b[0mKeyError\u001b[0m\u001b[0;34m(\u001b[0m\u001b[0;34mf\"{labels[mask]} not found in axis\"\u001b[0m\u001b[0;34m)\u001b[0m\u001b[0;34m\u001b[0m\u001b[0;34m\u001b[0m\u001b[0m\n\u001b[0m\u001b[1;32m   5283\u001b[0m             \u001b[0mindexer\u001b[0m \u001b[0;34m=\u001b[0m \u001b[0mindexer\u001b[0m\u001b[0;34m[\u001b[0m\u001b[0;34m~\u001b[0m\u001b[0mmask\u001b[0m\u001b[0;34m]\u001b[0m\u001b[0;34m\u001b[0m\u001b[0;34m\u001b[0m\u001b[0m\n\u001b[1;32m   5284\u001b[0m         \u001b[0;32mreturn\u001b[0m \u001b[0mself\u001b[0m\u001b[0;34m.\u001b[0m\u001b[0mdelete\u001b[0m\u001b[0;34m(\u001b[0m\u001b[0mindexer\u001b[0m\u001b[0;34m)\u001b[0m\u001b[0;34m\u001b[0m\u001b[0;34m\u001b[0m\u001b[0m\n",
      "\u001b[0;31mKeyError\u001b[0m: \"['Protein_pdb'] not found in axis\""
     ]
    }
   ],
   "source": [
    "full_results_df=full_results_df.drop([\"Protein_pdb\"], axis =1)"
   ]
  },
  {
   "cell_type": "code",
   "execution_count": 67,
   "metadata": {},
   "outputs": [
    {
     "data": {
      "text/plain": [
       "0      26.400000\n",
       "1     -19.200001\n",
       "2      26.799999\n",
       "3      40.250000\n",
       "4      20.571428\n",
       "         ...    \n",
       "591    24.833334\n",
       "592    14.200000\n",
       "593    30.750000\n",
       "594    51.000000\n",
       "595   -31.000000\n",
       "Name: Former hydrophobicity, Length: 596, dtype: float32"
      ]
     },
     "execution_count": 67,
     "metadata": {},
     "output_type": "execute_result"
    }
   ],
   "source": [
    "full_results_df['ROC AUC'] = pd.to_numeric(full_results_df['ROC AUC'], downcast = 'float')\n",
    "pd.to_numeric(full_results_df['Total hydrophobicity'], downcast = 'float')\n",
    "pd.to_numeric(full_results_df['Former hydrophobicity'], downcast = 'float')"
   ]
  },
  {
   "cell_type": "code",
   "execution_count": 68,
   "metadata": {},
   "outputs": [
    {
     "data": {
      "text/plain": [
       "0      1.000000\n",
       "1      0.940000\n",
       "2      0.973333\n",
       "3      1.000000\n",
       "4      0.973937\n",
       "         ...   \n",
       "591    0.994083\n",
       "592    0.956294\n",
       "593    1.000000\n",
       "594    1.000000\n",
       "595    1.000000\n",
       "Name: ROC AUC, Length: 596, dtype: float32"
      ]
     },
     "execution_count": 68,
     "metadata": {},
     "output_type": "execute_result"
    }
   ],
   "source": [
    "full_results_df['ROC AUC']"
   ]
  },
  {
   "cell_type": "code",
   "execution_count": 69,
   "metadata": {},
   "outputs": [],
   "source": [
    "normalized_df=(full_results_df-full_results_df.min())/(full_results_df.max()-full_results_df.min())\n"
   ]
  },
  {
   "cell_type": "code",
   "execution_count": 74,
   "metadata": {},
   "outputs": [
    {
     "data": {
      "text/plain": [
       "<seaborn.axisgrid.JointGrid at 0x7fbaa483dd00>"
      ]
     },
     "execution_count": 74,
     "metadata": {},
     "output_type": "execute_result"
    },
    {
     "data": {
      "image/png": "[encoded data removed]",
      "text/plain": [
       "<Figure size 432x432 with 3 Axes>"
      ]
     },
     "metadata": {},
     "output_type": "display_data"
    }
   ],
   "source": [
    "sns.set_theme(style=\"ticks\")\n",
    "sns.jointplot(x=normalized_df[\"Total hydrophobicity\"], y=normalized_df[\"ROC AUC\"], kind=\"kde\")"
   ]
  },
  {
   "cell_type": "code",
   "execution_count": 72,
   "metadata": {},
   "outputs": [
    {
     "name": "stdout",
     "output_type": "stream",
     "text": [
      "Pearsons correlation: 0.012\n"
     ]
    }
   ],
   "source": [
    "from scipy.stats import pearsonr\n",
    "corr, _ = pearsonr(full_results_df['Total hydrophobicity'], full_results_df['ROC AUC'])\n",
    "print('Pearsons correlation: %.3f' % corr)"
   ]
  },
  {
   "cell_type": "code",
   "execution_count": null,
   "metadata": {},
   "outputs": [],
   "source": []
  }
 ],
 "metadata": {
  "kernelspec": {
   "display_name": "Python 3",
   "language": "python",
   "name": "python3"
  },
  "language_info": {
   "codemirror_mode": {
    "name": "ipython",
    "version": 3
   },
   "file_extension": ".py",
   "mimetype": "text/x-python",
   "name": "python",
   "nbconvert_exporter": "python",
   "pygments_lexer": "ipython3",
   "version": "3.8.5"
  }
 },
 "nbformat": 4,
 "nbformat_minor": 4
}
