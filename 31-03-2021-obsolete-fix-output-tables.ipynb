{
 "cells": [
  {
   "cell_type": "code",
   "execution_count": 1,
   "metadata": {},
   "outputs": [],
   "source": [
    "# Import packages\n",
    "import os\n",
    "import argparse\n",
    "import time\n",
    "import numpy as np\n",
    "import pandas as pd\n",
    "import Bio\n",
    "from Bio.PDB import *\n",
    "import ast"
   ]
  },
  {
   "cell_type": "code",
   "execution_count": 2,
   "metadata": {},
   "outputs": [],
   "source": [
    "# Import the dict and convert it to a df\n",
    "F = open('../data/interface_hydrophobicity_output.txt', \"r\")\n",
    "X = F.readlines()\n",
    "RESULTS = X"
   ]
  },
  {
   "cell_type": "markdown",
   "metadata": {},
   "source": [
    "A quick check to show that these results on AB training set are not complete:"
   ]
  },
  {
   "cell_type": "code",
   "execution_count": 6,
   "metadata": {},
   "outputs": [
    {
     "data": {
      "text/plain": [
       "312"
      ]
     },
     "execution_count": 6,
     "metadata": {},
     "output_type": "execute_result"
    }
   ],
   "source": [
    "len(RESULTS)"
   ]
  },
  {
   "cell_type": "code",
   "execution_count": 7,
   "metadata": {},
   "outputs": [],
   "source": [
    "#Functions to read .txt and convert to a list of dicts\n",
    "new_line_clipper = lambda x: x.replace(\"\\n\", \"\")\n",
    "nan_replacer = lambda x: x.replace(\"nan\", '\"No result\"' )\n",
    "input_to_dict = lambda x: ast.literal_eval(x)"
   ]
  },
  {
   "cell_type": "code",
   "execution_count": 8,
   "metadata": {},
   "outputs": [],
   "source": [
    "# Map function above to strings in list to convert to list of dicts\n",
    "results = list(map(new_line_clipper, RESULTS))\n",
    "results = list(map(nan_replacer, results))\n",
    "results = list(map(input_to_dict, results))"
   ]
  },
  {
   "cell_type": "code",
   "execution_count": 9,
   "metadata": {},
   "outputs": [],
   "source": [
    "results_df = pd.DataFrame(results, columns = ['Protein_pdb', 'Total_mean_hydrophobicity', 'Former_chains_hydrophobicity'])\n",
    "results_df = results_df.applymap(lambda x: x[0])"
   ]
  },
  {
   "cell_type": "code",
   "execution_count": 10,
   "metadata": {},
   "outputs": [],
   "source": [
    "results_df = results_df.replace('No result', np.nan)"
   ]
  },
  {
   "cell_type": "code",
   "execution_count": 11,
   "metadata": {},
   "outputs": [
    {
     "data": {
      "text/plain": [
       "0     -11.716666\n",
       "1      39.375000\n",
       "2      21.450001\n",
       "3      -4.250000\n",
       "4       4.625000\n",
       "         ...    \n",
       "307    19.833334\n",
       "308    18.937500\n",
       "309    12.166667\n",
       "310     3.215476\n",
       "311    -4.375000\n",
       "Name: Total_mean_hydrophobicity, Length: 312, dtype: float32"
      ]
     },
     "execution_count": 11,
     "metadata": {},
     "output_type": "execute_result"
    }
   ],
   "source": [
    "pd.to_numeric(results_df['Total_mean_hydrophobicity'], downcast = 'float')"
   ]
  },
  {
   "cell_type": "code",
   "execution_count": 12,
   "metadata": {},
   "outputs": [
    {
     "data": {
      "text/html": [
       "<div>\n",
       "<style scoped>\n",
       "    .dataframe tbody tr th:only-of-type {\n",
       "        vertical-align: middle;\n",
       "    }\n",
       "\n",
       "    .dataframe tbody tr th {\n",
       "        vertical-align: top;\n",
       "    }\n",
       "\n",
       "    .dataframe thead th {\n",
       "        text-align: right;\n",
       "    }\n",
       "</style>\n",
       "<table border=\"1\" class=\"dataframe\">\n",
       "  <thead>\n",
       "    <tr style=\"text-align: right;\">\n",
       "      <th></th>\n",
       "      <th>Protein_pdb</th>\n",
       "      <th>Total_mean_hydrophobicity</th>\n",
       "      <th>Former_chains_hydrophobicity</th>\n",
       "    </tr>\n",
       "  </thead>\n",
       "  <tbody>\n",
       "    <tr>\n",
       "      <th>25</th>\n",
       "      <td>1LK3_HL_A</td>\n",
       "      <td>-29.200000</td>\n",
       "      <td>-37.000000</td>\n",
       "    </tr>\n",
       "    <tr>\n",
       "      <th>197</th>\n",
       "      <td>6ML8_HL_A</td>\n",
       "      <td>-23.375000</td>\n",
       "      <td>-43.000000</td>\n",
       "    </tr>\n",
       "    <tr>\n",
       "      <th>70</th>\n",
       "      <td>6IEB_HL_A</td>\n",
       "      <td>-22.625000</td>\n",
       "      <td>-25.500000</td>\n",
       "    </tr>\n",
       "    <tr>\n",
       "      <th>36</th>\n",
       "      <td>6GG0_HL_34</td>\n",
       "      <td>-21.791667</td>\n",
       "      <td>-9.083333</td>\n",
       "    </tr>\n",
       "    <tr>\n",
       "      <th>306</th>\n",
       "      <td>4WUU_ED_AC</td>\n",
       "      <td>-19.361111</td>\n",
       "      <td>-22.222222</td>\n",
       "    </tr>\n",
       "    <tr>\n",
       "      <th>...</th>\n",
       "      <td>...</td>\n",
       "      <td>...</td>\n",
       "      <td>...</td>\n",
       "    </tr>\n",
       "    <tr>\n",
       "      <th>198</th>\n",
       "      <td>4NP4_HL_A</td>\n",
       "      <td>NaN</td>\n",
       "      <td>NaN</td>\n",
       "    </tr>\n",
       "    <tr>\n",
       "      <th>228</th>\n",
       "      <td>5CZV_HL_A</td>\n",
       "      <td>NaN</td>\n",
       "      <td>NaN</td>\n",
       "    </tr>\n",
       "    <tr>\n",
       "      <th>241</th>\n",
       "      <td>3L95_HL_Y</td>\n",
       "      <td>NaN</td>\n",
       "      <td>NaN</td>\n",
       "    </tr>\n",
       "    <tr>\n",
       "      <th>275</th>\n",
       "      <td>5W9I_CD_A</td>\n",
       "      <td>NaN</td>\n",
       "      <td>NaN</td>\n",
       "    </tr>\n",
       "    <tr>\n",
       "      <th>286</th>\n",
       "      <td>5CZX_HL_A</td>\n",
       "      <td>NaN</td>\n",
       "      <td>NaN</td>\n",
       "    </tr>\n",
       "  </tbody>\n",
       "</table>\n",
       "<p>312 rows × 3 columns</p>\n",
       "</div>"
      ],
      "text/plain": [
       "    Protein_pdb  Total_mean_hydrophobicity  Former_chains_hydrophobicity\n",
       "25    1LK3_HL_A                 -29.200000                    -37.000000\n",
       "197   6ML8_HL_A                 -23.375000                    -43.000000\n",
       "70    6IEB_HL_A                 -22.625000                    -25.500000\n",
       "36   6GG0_HL_34                 -21.791667                     -9.083333\n",
       "306  4WUU_ED_AC                 -19.361111                    -22.222222\n",
       "..          ...                        ...                           ...\n",
       "198   4NP4_HL_A                        NaN                           NaN\n",
       "228   5CZV_HL_A                        NaN                           NaN\n",
       "241   3L95_HL_Y                        NaN                           NaN\n",
       "275   5W9I_CD_A                        NaN                           NaN\n",
       "286   5CZX_HL_A                        NaN                           NaN\n",
       "\n",
       "[312 rows x 3 columns]"
      ]
     },
     "execution_count": 12,
     "metadata": {},
     "output_type": "execute_result"
    }
   ],
   "source": [
    "results_df.sort_values(by = 'Total_mean_hydrophobicity')"
   ]
  }
 ],
 "metadata": {
  "kernelspec": {
   "display_name": "Python 3",
   "language": "python",
   "name": "python3"
  },
  "language_info": {
   "codemirror_mode": {
    "name": "ipython",
    "version": 3
   },
   "file_extension": ".py",
   "mimetype": "text/x-python",
   "name": "python",
   "nbconvert_exporter": "python",
   "pygments_lexer": "ipython3",
   "version": "3.8.5"
  }
 },
 "nbformat": 4,
 "nbformat_minor": 4
}
