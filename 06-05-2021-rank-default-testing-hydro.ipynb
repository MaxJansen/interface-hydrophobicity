{
 "cells": [
  {
   "cell_type": "markdown",
   "metadata": {},
   "source": [
    "# Part 1. Rank hydrophobicity scores of MaSIF test set.\n",
    "## Used the hydrophobicity script on the cluster, rank the output to break down in groups for comparison step\n",
    "Important! This generates the data to perform 'MaSIF comparison' on!"
   ]
  },
  {
   "cell_type": "code",
   "execution_count": 45,
   "metadata": {},
   "outputs": [],
   "source": [
    "# Import packages\n",
    "import os\n",
    "import argparse\n",
    "import time\n",
    "import numpy as np\n",
    "import pandas as pd\n",
    "import ast\n",
    "import seaborn as sns\n",
    "import matplotlib.pyplot as plt"
   ]
  },
  {
   "cell_type": "code",
   "execution_count": 46,
   "metadata": {},
   "outputs": [],
   "source": [
    "# Import the dict and convert it to a df\n",
    "data_path = '../data/masif_testing/'\n",
    "F = open(str(data_path + 'interface_output_original_testing.txt'), \"r\")\n",
    "X = F.readlines()"
   ]
  },
  {
   "cell_type": "code",
   "execution_count": 47,
   "metadata": {},
   "outputs": [],
   "source": [
    "#Functions to read .txt and convert to a list of dicts\n",
    "new_line_clipper = lambda x: x.replace(\"\\n\", \"\")\n",
    "nan_replacer = lambda x: x.replace(\"nan\", '\"No result\"' )\n",
    "input_to_dict = lambda x: ast.literal_eval(x)"
   ]
  },
  {
   "cell_type": "code",
   "execution_count": 48,
   "metadata": {},
   "outputs": [],
   "source": [
    "# Map function above to strings in list to convert to list of dicts\n",
    "results = list(map(new_line_clipper, X))\n",
    "results = list(map(nan_replacer, results))\n",
    "results = list(map(input_to_dict, results))"
   ]
  },
  {
   "cell_type": "code",
   "execution_count": 49,
   "metadata": {},
   "outputs": [],
   "source": [
    "# Convert to dataframe\n",
    "results_df = pd.DataFrame(results, columns = ['Protein_pdb', 'Total_mean_hydrophobicity', 'Former_chains_hydrophobicity'])\n",
    "results_df = results_df.applymap(lambda x: x[0])"
   ]
  },
  {
   "cell_type": "code",
   "execution_count": 50,
   "metadata": {},
   "outputs": [],
   "source": [
    "# Now go back to nan, a bit annoying\n",
    "results_df = results_df.replace('No result', np.nan)"
   ]
  },
  {
   "cell_type": "code",
   "execution_count": 51,
   "metadata": {},
   "outputs": [],
   "source": [
    "# Convert to float to allow calculation and ranking\n",
    "pd.to_numeric(results_df['Total_mean_hydrophobicity'], downcast = 'float')\n",
    "pd.to_numeric(results_df['Former_chains_hydrophobicity'], downcast = 'float')\n",
    "# Make column names better for plots, put 'nan' fields back\n",
    "results_df.rename(columns = {\"Total_mean_hydrophobicity\": \"Total hydrophobicity\"}, inplace=True)\n",
    "results_df.rename(columns = {\"Former_chains_hydrophobicity\": \"Former hydrophobicity\"}, inplace=True)"
   ]
  },
  {
   "cell_type": "code",
   "execution_count": 52,
   "metadata": {},
   "outputs": [],
   "source": [
    "# For our purposes, remove nans\n",
    "results_df = results_df.dropna()"
   ]
  },
  {
   "cell_type": "code",
   "execution_count": 53,
   "metadata": {},
   "outputs": [],
   "source": [
    "# Also, do an inner merge to ensure that you only keep\n",
    "# proteins for later steps that also worked in the precompute masif part when getting descriptors\n",
    "succ_prot = open(str(data_path + 'precomputation_proteins.txt'), \"r\")\n",
    "Y = succ_prot.readlines()\n",
    "succ_prot_list = list(map(new_line_clipper, Y))\n",
    "succ_prot_df = pd.DataFrame(succ_prot_list, columns = ['Protein_pdb'])"
   ]
  },
  {
   "cell_type": "code",
   "execution_count": 54,
   "metadata": {},
   "outputs": [],
   "source": [
    "results_df = pd.merge(results_df, succ_prot_df, how = 'inner')"
   ]
  },
  {
   "cell_type": "code",
   "execution_count": 55,
   "metadata": {},
   "outputs": [],
   "source": [
    "results_df.sort_values(by = 'Total hydrophobicity', inplace=True)"
   ]
  },
  {
   "cell_type": "code",
   "execution_count": 61,
   "metadata": {},
   "outputs": [
    {
     "data": {
      "text/html": [
       "<div>\n",
       "<style scoped>\n",
       "    .dataframe tbody tr th:only-of-type {\n",
       "        vertical-align: middle;\n",
       "    }\n",
       "\n",
       "    .dataframe tbody tr th {\n",
       "        vertical-align: top;\n",
       "    }\n",
       "\n",
       "    .dataframe thead th {\n",
       "        text-align: right;\n",
       "    }\n",
       "</style>\n",
       "<table border=\"1\" class=\"dataframe\">\n",
       "  <thead>\n",
       "    <tr style=\"text-align: right;\">\n",
       "      <th></th>\n",
       "      <th>Protein_pdb</th>\n",
       "      <th>Total hydrophobicity</th>\n",
       "      <th>Former hydrophobicity</th>\n",
       "    </tr>\n",
       "  </thead>\n",
       "  <tbody>\n",
       "    <tr>\n",
       "      <th>149</th>\n",
       "      <td>2HVB_A_B</td>\n",
       "      <td>-55.000000</td>\n",
       "      <td>-55.000000</td>\n",
       "    </tr>\n",
       "    <tr>\n",
       "      <th>358</th>\n",
       "      <td>2I32_A_E</td>\n",
       "      <td>-46.000000</td>\n",
       "      <td>-46.000000</td>\n",
       "    </tr>\n",
       "    <tr>\n",
       "      <th>366</th>\n",
       "      <td>3U4J_C_B</td>\n",
       "      <td>-33.916667</td>\n",
       "      <td>-33.333333</td>\n",
       "    </tr>\n",
       "    <tr>\n",
       "      <th>161</th>\n",
       "      <td>1O9A_A_B</td>\n",
       "      <td>-32.333333</td>\n",
       "      <td>-32.333333</td>\n",
       "    </tr>\n",
       "    <tr>\n",
       "      <th>307</th>\n",
       "      <td>2K6D_A_B</td>\n",
       "      <td>-31.000000</td>\n",
       "      <td>-31.000000</td>\n",
       "    </tr>\n",
       "    <tr>\n",
       "      <th>...</th>\n",
       "      <td>...</td>\n",
       "      <td>...</td>\n",
       "      <td>...</td>\n",
       "    </tr>\n",
       "    <tr>\n",
       "      <th>201</th>\n",
       "      <td>2JI1_C_D</td>\n",
       "      <td>86.375000</td>\n",
       "      <td>99.000000</td>\n",
       "    </tr>\n",
       "    <tr>\n",
       "      <th>611</th>\n",
       "      <td>3KTS_A_B</td>\n",
       "      <td>90.333333</td>\n",
       "      <td>90.333333</td>\n",
       "    </tr>\n",
       "    <tr>\n",
       "      <th>401</th>\n",
       "      <td>4KGG_C_A</td>\n",
       "      <td>97.000000</td>\n",
       "      <td>97.000000</td>\n",
       "    </tr>\n",
       "    <tr>\n",
       "      <th>32</th>\n",
       "      <td>1NPO_A_C</td>\n",
       "      <td>97.000000</td>\n",
       "      <td>97.000000</td>\n",
       "    </tr>\n",
       "    <tr>\n",
       "      <th>168</th>\n",
       "      <td>2MCN_A_B</td>\n",
       "      <td>100.000000</td>\n",
       "      <td>100.000000</td>\n",
       "    </tr>\n",
       "  </tbody>\n",
       "</table>\n",
       "<p>679 rows × 3 columns</p>\n",
       "</div>"
      ],
      "text/plain": [
       "    Protein_pdb  Total hydrophobicity  Former hydrophobicity\n",
       "149    2HVB_A_B            -55.000000             -55.000000\n",
       "358    2I32_A_E            -46.000000             -46.000000\n",
       "366    3U4J_C_B            -33.916667             -33.333333\n",
       "161    1O9A_A_B            -32.333333             -32.333333\n",
       "307    2K6D_A_B            -31.000000             -31.000000\n",
       "..          ...                   ...                    ...\n",
       "201    2JI1_C_D             86.375000              99.000000\n",
       "611    3KTS_A_B             90.333333              90.333333\n",
       "401    4KGG_C_A             97.000000              97.000000\n",
       "32     1NPO_A_C             97.000000              97.000000\n",
       "168    2MCN_A_B            100.000000             100.000000\n",
       "\n",
       "[679 rows x 3 columns]"
      ]
     },
     "execution_count": 61,
     "metadata": {},
     "output_type": "execute_result"
    }
   ],
   "source": [
    "results_df"
   ]
  },
  {
   "cell_type": "code",
   "execution_count": 62,
   "metadata": {},
   "outputs": [
    {
     "name": "stderr",
     "output_type": "stream",
     "text": [
      "/Users/maxjansen/anaconda3/lib/python3.8/site-packages/seaborn/distributions.py:2551: FutureWarning: `distplot` is a deprecated function and will be removed in a future version. Please adapt your code to use either `displot` (a figure-level function with similar flexibility) or `histplot` (an axes-level function for histograms).\n",
      "  warnings.warn(msg, FutureWarning)\n"
     ]
    },
    {
     "data": {
      "image/png": "[encoded data removed]",
      "text/plain": [
       "<Figure size 432x288 with 1 Axes>"
      ]
     },
     "metadata": {
      "needs_background": "light"
     },
     "output_type": "display_data"
    }
   ],
   "source": [
    "plt.clf()\n",
    "ax = sns.distplot(results_df['Total hydrophobicity'])\n",
    "plt.savefig('Total_hydro_dist.png')"
   ]
  },
  {
   "cell_type": "code",
   "execution_count": 56,
   "metadata": {},
   "outputs": [],
   "source": [
    "# Select least hydrophobic and write to file\n",
    "results_least = results_df[0:100]"
   ]
  },
  {
   "cell_type": "code",
   "execution_count": 64,
   "metadata": {},
   "outputs": [
    {
     "data": {
      "text/html": [
       "<div>\n",
       "<style scoped>\n",
       "    .dataframe tbody tr th:only-of-type {\n",
       "        vertical-align: middle;\n",
       "    }\n",
       "\n",
       "    .dataframe tbody tr th {\n",
       "        vertical-align: top;\n",
       "    }\n",
       "\n",
       "    .dataframe thead th {\n",
       "        text-align: right;\n",
       "    }\n",
       "</style>\n",
       "<table border=\"1\" class=\"dataframe\">\n",
       "  <thead>\n",
       "    <tr style=\"text-align: right;\">\n",
       "      <th></th>\n",
       "      <th>Protein_pdb</th>\n",
       "      <th>Total hydrophobicity</th>\n",
       "      <th>Former hydrophobicity</th>\n",
       "    </tr>\n",
       "  </thead>\n",
       "  <tbody>\n",
       "    <tr>\n",
       "      <th>29</th>\n",
       "      <td>1JKG_A_B</td>\n",
       "      <td>14.947917</td>\n",
       "      <td>21.3125</td>\n",
       "    </tr>\n",
       "    <tr>\n",
       "      <th>269</th>\n",
       "      <td>3DCL_A_B</td>\n",
       "      <td>14.950000</td>\n",
       "      <td>18.5000</td>\n",
       "    </tr>\n",
       "    <tr>\n",
       "      <th>464</th>\n",
       "      <td>3TSR_A_E</td>\n",
       "      <td>14.958333</td>\n",
       "      <td>-14.2500</td>\n",
       "    </tr>\n",
       "    <tr>\n",
       "      <th>270</th>\n",
       "      <td>3EYD_C_D</td>\n",
       "      <td>15.000000</td>\n",
       "      <td>1.2500</td>\n",
       "    </tr>\n",
       "    <tr>\n",
       "      <th>320</th>\n",
       "      <td>3UI2_A_B</td>\n",
       "      <td>15.000000</td>\n",
       "      <td>76.0000</td>\n",
       "    </tr>\n",
       "    <tr>\n",
       "      <th>...</th>\n",
       "      <td>...</td>\n",
       "      <td>...</td>\n",
       "      <td>...</td>\n",
       "    </tr>\n",
       "    <tr>\n",
       "      <th>537</th>\n",
       "      <td>3TDM_A_B</td>\n",
       "      <td>22.700000</td>\n",
       "      <td>26.8000</td>\n",
       "    </tr>\n",
       "    <tr>\n",
       "      <th>259</th>\n",
       "      <td>3D5N_F_I</td>\n",
       "      <td>22.750000</td>\n",
       "      <td>23.7500</td>\n",
       "    </tr>\n",
       "    <tr>\n",
       "      <th>45</th>\n",
       "      <td>1I9C_C_D</td>\n",
       "      <td>22.785714</td>\n",
       "      <td>10.0000</td>\n",
       "    </tr>\n",
       "    <tr>\n",
       "      <th>586</th>\n",
       "      <td>2Z0P_C_D</td>\n",
       "      <td>22.812500</td>\n",
       "      <td>9.7500</td>\n",
       "    </tr>\n",
       "    <tr>\n",
       "      <th>100</th>\n",
       "      <td>1UGH_E_I</td>\n",
       "      <td>22.825000</td>\n",
       "      <td>23.2500</td>\n",
       "    </tr>\n",
       "  </tbody>\n",
       "</table>\n",
       "<p>100 rows × 3 columns</p>\n",
       "</div>"
      ],
      "text/plain": [
       "    Protein_pdb  Total hydrophobicity  Former hydrophobicity\n",
       "29     1JKG_A_B             14.947917                21.3125\n",
       "269    3DCL_A_B             14.950000                18.5000\n",
       "464    3TSR_A_E             14.958333               -14.2500\n",
       "270    3EYD_C_D             15.000000                 1.2500\n",
       "320    3UI2_A_B             15.000000                76.0000\n",
       "..          ...                   ...                    ...\n",
       "537    3TDM_A_B             22.700000                26.8000\n",
       "259    3D5N_F_I             22.750000                23.7500\n",
       "45     1I9C_C_D             22.785714                10.0000\n",
       "586    2Z0P_C_D             22.812500                 9.7500\n",
       "100    1UGH_E_I             22.825000                23.2500\n",
       "\n",
       "[100 rows x 3 columns]"
      ]
     },
     "execution_count": 64,
     "metadata": {},
     "output_type": "execute_result"
    }
   ],
   "source": [
    "results_middle"
   ]
  },
  {
   "cell_type": "code",
   "execution_count": 57,
   "metadata": {},
   "outputs": [],
   "source": [
    "results_most = results_df[-100:]"
   ]
  },
  {
   "cell_type": "code",
   "execution_count": 58,
   "metadata": {},
   "outputs": [],
   "source": [
    "results_middle = results_df.iloc[int((len(results_df)/2)-50):int((len(results_df)/2)+50)]"
   ]
  },
  {
   "cell_type": "code",
   "execution_count": 59,
   "metadata": {},
   "outputs": [],
   "source": [
    "def sub_writer(file_name, sub_df):\n",
    "    with open(file_name, 'w') as f:\n",
    "        for entry in sub_df['Protein_pdb']:\n",
    "            f.write(entry + '\\n')"
   ]
  },
  {
   "cell_type": "code",
   "execution_count": 60,
   "metadata": {},
   "outputs": [],
   "source": [
    "sub_writer(str(data_path + 'least_hydrophobic.txt'), results_least)\n",
    "sub_writer(str(data_path + 'middle_hydrophobic.txt'), results_middle)\n",
    "sub_writer(str(data_path + 'most_hydrophobic.txt'), results_most)"
   ]
  }
 ],
 "metadata": {
  "kernelspec": {
   "display_name": "Python 3",
   "language": "python",
   "name": "python3"
  },
  "language_info": {
   "codemirror_mode": {
    "name": "ipython",
    "version": 3
   },
   "file_extension": ".py",
   "mimetype": "text/x-python",
   "name": "python",
   "nbconvert_exporter": "python",
   "pygments_lexer": "ipython3",
   "version": "3.8.5"
  }
 },
 "nbformat": 4,
 "nbformat_minor": 4
}
